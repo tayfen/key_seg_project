{
 "cells": [
  {
   "cell_type": "markdown",
   "metadata": {},
   "source": [
    "Берем весь валидированный сет, прогоняем через модельку, обрезаем и сохраняем \n",
    "(сохраняем все обрезанное в одну папку + список уже сделанных файлов), это довольно долго делается, так что делал не в колабе, а на персональном компьютере на CPU"
   ]
  },
  {
   "cell_type": "code",
   "execution_count": null,
   "metadata": {},
   "outputs": [],
   "source": [
    "from glob import glob\n",
    "sc_orders_validated = 'E:\\mikiz\\segmentation_dataset\\photos_securkeys_validated'\n",
    "all_photos = glob(sc_orders_validated + '\\*\\*\\*', recursive = True)"
   ]
  },
  {
   "cell_type": "code",
   "execution_count": null,
   "metadata": {},
   "outputs": [],
   "source": [
    "import os\n",
    "#нужны пути до mmdetection и модельки\n",
    "os.environ['MMDETECTION_DIR'] = 'E:\\\\develop\\\\mikiz\\\\repos\\\\dataset_prep\\\\mmdetection'\n",
    "os.environ['MODEL_PATH'] = 'E:\\\\develop\\\\mikiz\\\\repos\\\\dataset_prep\\\\model_detection.pth'"
   ]
  },
  {
   "cell_type": "code",
   "execution_count": null,
   "metadata": {},
   "outputs": [],
   "source": [
    "folder_path = 'E:\\\\mikiz\\\\segmentation_dataset\\\\photos_securkeys_validated_cropped'\n",
    "import cv2\n",
    "from proc import key_detection\n",
    "detectron = key_detection()\n",
    "\n",
    "not_done = []\n",
    "\n",
    "for photo in all_photos:    \n",
    "        im = detectron.proc_img(photo)\n",
    "        if im is not None:\n",
    "            if cv2.imwrite(f'{folder_path}\\\\cropped_{os.path.basename(photo)}', im):\n",
    "                done.append(photo)\n",
    "            else:\n",
    "                print(f'error - {photo}')\n",
    "        else:\n",
    "            not_done.append(photo)"
   ]
  },
  {
   "cell_type": "markdown",
   "metadata": {},
   "source": [
    "ресайзим фоточки, длинная сторона до 1024"
   ]
  },
  {
   "cell_type": "code",
   "execution_count": 111,
   "metadata": {},
   "outputs": [],
   "source": [
    "from glob import glob\n",
    "path_cropped = 'E:\\\\mikiz\\\\segmentation_dataset\\\\photos_securkeys_validated_cropped'\n",
    "photos_cropped = glob(path_cropped + '\\*', recursive = True)"
   ]
  },
  {
   "cell_type": "code",
   "execution_count": 114,
   "metadata": {},
   "outputs": [],
   "source": [
    "folder_path = 'E:\\\\mikiz\\\\segmentation_dataset\\\\photos_securkeys_validated_cropped_resized'\n",
    "import cv2\n",
    "\n",
    "for photo in photos_cropped:\n",
    "    dim = 1024\n",
    "    img = mmcv.imread(photo)\n",
    "    y = img.shape[0]\n",
    "    x = img.shape[1]\n",
    "    if x > y:\n",
    "        img=cv2.rotate(img, cv2.ROTATE_90_CLOCKWISE)\n",
    "        ratio = y/x\n",
    "    else:\n",
    "        ratio = x/y\n",
    "    \n",
    "    img = mmcv.imresize(img, (int(ratio*dim), dim))\n",
    "\n",
    "    cv2.imwrite(f'{folder_path}\\\\resized_cropped_{os.path.basename(photo)}', img)\n",
    "        "
   ]
  },
  {
   "cell_type": "markdown",
   "metadata": {},
   "source": [
    "готовим датасет для разметки под сегментацию, split to train/test/val (60 30 10)"
   ]
  },
  {
   "cell_type": "code",
   "execution_count": 16,
   "metadata": {},
   "outputs": [],
   "source": [
    "from glob import glob\n",
    "import numpy as np\n",
    "from sklearn.model_selection import train_test_split\n",
    "\n",
    "path_resized = 'E:\\\\mikiz\\\\segmentation_dataset\\\\photos_securkeys_validated_cropped_resized'\n",
    "photos_resized = glob(path_resized + '\\*.*', recursive = True)\n",
    "\n",
    "X_train, X_test = train_test_split(photos_resized, test_size=0.3, random_state=1)\n",
    "\n",
    "X_train, X_val = train_test_split(X_train, test_size=0.15, random_state=1) #0.7*0.15 ~ 0.1"
   ]
  },
  {
   "cell_type": "code",
   "execution_count": 17,
   "metadata": {},
   "outputs": [],
   "source": [
    "import shutil\n",
    "\n",
    "for part in zip([X_train, X_test, X_val], ['train', 'test', 'val']):\n",
    "    for f_name in part[0]:\n",
    "        #print(f'{path_resized}\\\\{part[1]}\\\\{os.path.basename(f_name)}')\n",
    "        shutil.copy(f_name, f'{path_resized}\\\\{part[1]}\\\\{os.path.basename(f_name)}')"
   ]
  }
 ],
 "metadata": {
  "kernelspec": {
   "display_name": "Python 3.8.13 ('openmmlab')",
   "language": "python",
   "name": "python3"
  },
  "language_info": {
   "codemirror_mode": {
    "name": "ipython",
    "version": 3
   },
   "file_extension": ".py",
   "mimetype": "text/x-python",
   "name": "python",
   "nbconvert_exporter": "python",
   "pygments_lexer": "ipython3",
   "version": "3.8.13"
  },
  "orig_nbformat": 4,
  "vscode": {
   "interpreter": {
    "hash": "d6b42f9d29e2bc369b56d6c693c87d42de87d5e3af684520a94f041b644885d1"
   }
  }
 },
 "nbformat": 4,
 "nbformat_minor": 2
}
